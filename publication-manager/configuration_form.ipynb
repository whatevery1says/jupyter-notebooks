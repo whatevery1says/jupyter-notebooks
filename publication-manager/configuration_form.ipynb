{
 "cells": [
  {
   "cell_type": "code",
   "execution_count": 15,
   "metadata": {},
   "outputs": [
    {
     "data": {
      "text/html": [
       "\n",
       "<style>\n",
       "/* Allow extra-long labels */\n",
       ".widget-label {min-width: 20ex !important; font-weight: bold;}\n",
       "/* Classes for toggling widget visibility */\n",
       ".hidden {display: none;}\n",
       ".visible {display: flex;}\n",
       "</style>\n"
      ],
      "text/plain": [
       "<IPython.core.display.HTML object>"
      ]
     },
     "metadata": {},
     "output_type": "display_data"
    },
    {
     "data": {
      "application/vnd.jupyter.widget-view+json": {
       "model_id": "f779c7eb5bcd409496fb42000823c37a"
      }
     },
     "metadata": {},
     "output_type": "display_data"
    },
    {
     "data": {
      "application/vnd.jupyter.widget-view+json": {
       "model_id": "a5ca3b8a5a5a43bfb23451c5dd6fd0b5"
      }
     },
     "metadata": {},
     "output_type": "display_data"
    },
    {
     "data": {
      "application/vnd.jupyter.widget-view+json": {
       "model_id": "99fed461e15f466b8b263265c11bb231"
      }
     },
     "metadata": {},
     "output_type": "display_data"
    }
   ],
   "source": [
    "from IPython.display import display, HTML\n",
    "import ipywidgets as widgets\n",
    "from ipywidgets import Box, Dropdown, fixed, interact, interactive, interact_manual, Label, Layout, Textarea\n",
    "\n",
    "# Override ipywidgets styles\n",
    "display(HTML('''\n",
    "<style>\n",
    "/* Allow extra-long labels */\n",
    ".widget-label {min-width: 20ex !important; font-weight: bold;}\n",
    "/* Classes for toggling widget visibility */\n",
    ".hidden {display: none;}\n",
    ".visible {display: flex;}\n",
    "</style>\n",
    "'''))\n",
    "\n",
    "class ConfigForm(object):\n",
    "    # Define widgets\n",
    "    caption = widgets.HTML(value='<h3>Configure Your Action</h3>')\n",
    "    action = widgets.Dropdown(options=['Import', 'Delete', 'Update'], value='Import')\n",
    "    delete = widgets.Text(value='')\n",
    "    update = widgets.Text(value='')\n",
    "    properties = Textarea(value='', placeholder=\"A dict, e.g. {'title': 'New Title', 'description': 'New description'}\")\n",
    "    button = widgets.Button(description='Submit')\n",
    "    \n",
    "    # Configure widget layout\n",
    "    flex = Layout(display='flex', flex_flow='row', justify_content='space-between')\n",
    "\n",
    "    # Assemble widgets in Boxes\n",
    "    form_items = [\n",
    "        Box([Label(value='Action:'), action], layout=flex),\n",
    "        Box([Label(value='`_id` to Delete:'), delete], layout=flex),\n",
    "        Box([Label(value='`_id` to Update:'), update], layout=flex),\n",
    "        Box([Label(value='Propeties to Update:'), properties], layout=flex)\n",
    "    ]\n",
    "    \n",
    "    # Initialise the class object\n",
    "    def __init__(self, object):\n",
    "        self.caption = ConfigForm.caption\n",
    "        self.button = ConfigForm.button\n",
    "        self.action = ConfigForm.form_items[0]\n",
    "        self.delete = ConfigForm.form_items[1]\n",
    "        self.update = ConfigForm.form_items[2]\n",
    "        self.properties = ConfigForm.form_items[3]\n",
    "\n",
    "        # Modify widget visibility when the form is changed\n",
    "        def change_visibility(change):\n",
    "            box = self.form\n",
    "            if change['new'] == 'Import':\n",
    "                box.children[1].remove_class('visible').add_class('hidden')\n",
    "                box.children[2].remove_class('visible').add_class('hidden')\n",
    "                box.children[3].remove_class('visible').add_class('hidden')\n",
    "            elif change['new'] == 'Delete':\n",
    "                box.children[1].add_class('visible').remove_class('hidden')\n",
    "                box.children[2].remove_class('visible').add_class('hidden')\n",
    "                box.children[3].remove_class('visible').add_class('hidden')\n",
    "            elif change['new'] == 'Update':\n",
    "                box.children[1].remove_class('visible').add_class('hidden')\n",
    "                box.children[2].add_class('visible').remove_class('hidden')\n",
    "                box.children[3].remove_class('hidden').add_class('visible')\n",
    "               \n",
    "        def handle_submit(values):\n",
    "            # Save the form values in a dict\n",
    "            self.values = {'action': ConfigForm.action.value}\n",
    "            if ConfigForm.delete.value != '':\n",
    "                self.values['delete_id'] = ConfigForm.delete.value \n",
    "            if ConfigForm.update.value != '':\n",
    "                self.values['update_id'] = ConfigForm.update.value\n",
    "                self.values['properties'] = ConfigForm.properties.value\n",
    "            print('Configuration saved. Values will be available is the cells below.')\n",
    "            print(self.values)\n",
    "\n",
    "        # Initialise widgets in the container Box\n",
    "        self.form = Box([self.action, self.delete, self.update, self.properties],\n",
    "                   layout=Layout(\n",
    "                    display='flex',\n",
    "                    flex_flow='column',\n",
    "                    border='solid 2px',\n",
    "                    align_items='stretch',\n",
    "                    width='50%'))\n",
    "\n",
    "        # Modify the CSS and set up some helper variables\n",
    "        box = self.form\n",
    "        box.children[1].add_class('hidden')\n",
    "        box.children[2].add_class('hidden')\n",
    "        box.children[3].add_class('hidden')\n",
    "        action_field = box.children[0].children[1]\n",
    "\n",
    "        # Display the form and watch for changes\n",
    "        display(self.caption)\n",
    "        display(box)\n",
    "        display(self.button)\n",
    "        action_field.observe(change_visibility)\n",
    "        self.button.on_click(handle_submit)\n",
    "\n",
    "# Instantiate the form - values accessible with e.g. config.values['delete_id]\n",
    "config = ConfigForm(object)"
   ]
  }
 ],
 "metadata": {
  "kernelspec": {
   "display_name": "Python 3",
   "language": "python",
   "name": "python3"
  },
  "language_info": {
   "codemirror_mode": {
    "name": "ipython",
    "version": 3
   },
   "file_extension": ".py",
   "mimetype": "text/x-python",
   "name": "python",
   "nbconvert_exporter": "python",
   "pygments_lexer": "ipython3",
   "version": "3.6.1"
  }
 },
 "nbformat": 4,
 "nbformat_minor": 2
}
