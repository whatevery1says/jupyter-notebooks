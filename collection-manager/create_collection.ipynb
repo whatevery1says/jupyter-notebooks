{
 "cells": [
  {
   "cell_type": "markdown",
   "metadata": {},
   "source": [
    "## Configuration"
   ]
  },
  {
   "cell_type": "code",
   "execution_count": null,
   "metadata": {},
   "outputs": [],
   "source": [
    "### RUN THIS CELL TO BEGIN CONFIGURATION ###\n",
    "%run create_collection_config.ipynb"
   ]
  },
  {
   "cell_type": "code",
   "execution_count": null,
   "metadata": {
    "collapsed": true
   },
   "outputs": [],
   "source": [
    "### LEGACY CONFIGURATION CELL -- SKIP THIS IF USING THE CONFIGURATION FORM ABOVE ###\n",
    "\n",
    "# Choose Action : Create Manifest or Insert Manifest in Database\n",
    "\n",
    "action = 'Create Manifest'\n",
    "\n",
    "# Required Properties\n",
    "_id = '' # string\n",
    "path = ',Corpus,' # Do not change\n",
    "publications = [',Publications,new_york_times,'] # list\n",
    "description = '' # string\n",
    "collectors = ['John Smith'] # list\n",
    "date = ['2017-01-01'] # a list\n",
    "\n",
    "# Optional Properties\n",
    "workstation = '' # string\n",
    "queryTerms = ['humanities'] # list\n",
    "processes = ['path to process'] # list\n",
    "title = '' # string\n",
    "altTitle = '' # string\n",
    "label = '' # string\n",
    "notes = ['A note']  # list\n"
   ]
  },
  {
   "cell_type": "markdown",
   "metadata": {},
   "source": [
    "## Basic Setup"
   ]
  },
  {
   "cell_type": "code",
   "execution_count": null,
   "metadata": {},
   "outputs": [],
   "source": [
    "# If using the configuration form, get the values from the form\n",
    "try:\n",
    "    assert config.values['_id']\n",
    "    action = config.values['action']\n",
    "    _id = config.values['_id']\n",
    "    path = config.values['path']\n",
    "    publications = config.values['publications']\n",
    "    description = config.values['description']\n",
    "    collectors = config.values['collectors']\n",
    "    date = config.values['date']\n",
    "    workstation = config.values['workstation']\n",
    "    queryTerms = config.values['query_terms']\n",
    "    processes = config.values['processes']\n",
    "    title = config.values['altTitle']\n",
    "    altTitle = config.values['title']\n",
    "    label = config.values['label']\n",
    "    notes = config.values['notes']\n",
    "except:\n",
    "    pass\n",
    "namespace = 'we1sv1.1'\n",
    "\n",
    "# Import dependencies\n",
    "\n",
    "import pymongo, requests, json\n",
    "from pymongo import MongoClient\n",
    "from jsonschema import validate, FormatChecker\n",
    "\n",
    "# Set up the MongoDB client, configure the databases, and assign variables to the \"collections\" \n",
    "client = MongoClient('mongodb://localhost:27017')\n",
    "db = client.we1s\n",
    "Corpus = db.Corpus\n",
    "\n",
    "# Define the schema to be used to create the manifest\n",
    "schema = [\n",
    "    { \"name\": \"namespace\", \"type\": \"string\" },\n",
    "    { \"name\": \"_id\", \"type\": \"string\" },\n",
    "    { \"name\": \"path\", \"type\": \"string\" },    \n",
    "    { \"name\": \"publications\", \"type\": \"list\" },    \n",
    "    { \"name\": \"description\", \"type\": \"string\" },    \n",
    "    { \"name\": \"collectors\", \"type\": \"list\" },    \n",
    "    { \"name\": \"date\", \"type\": \"list\" },        \n",
    "    { \"name\": \"workstation\", \"type\": \"string\" },    \n",
    "    { \"name\": \"queryTerms\", \"type\": \"list\" },    \n",
    "    { \"name\": \"processes\", \"type\": \"list\" },\n",
    "    { \"name\": \"title\", \"type\": \"string\" },\n",
    "    { \"name\": \"altTitle\", \"type\": \"string\" },\n",
    "    { \"name\": \"label\", \"type\": \"string\" },\n",
    "    { \"name\": \"notes\", \"type\": \"list\" },\n",
    "]\n",
    "\n",
    "# Pass the configurations to a variable\n",
    "opts = globals()"
   ]
  },
  {
   "cell_type": "markdown",
   "metadata": {},
   "source": [
    "## API Methods"
   ]
  },
  {
   "cell_type": "code",
   "execution_count": null,
   "metadata": {
    "collapsed": true
   },
   "outputs": [],
   "source": [
    "def create_manifest(opts, schema):\n",
    "    manifest = {}\n",
    "    for item in schema:\n",
    "        key = item['name']\n",
    "        val = opts[key]\n",
    "        validate_datatype(key, val, item['type'])\n",
    "        # Eliminate empty properties from the manifest\n",
    "        if isinstance(val, str) and val != \"\":\n",
    "            manifest[key] = val\n",
    "        if isinstance(val, list) and val[0] != \"\":\n",
    "            manifest[key] = val\n",
    "    # Validate the manifest against the schema\n",
    "    if validate_manifest(manifest) == True:\n",
    "        return manifest\n",
    "    else:\n",
    "        print('Could not produce a valid manifest. Please check the form of ' + key + '.')\n",
    "\n",
    "def validate_datatype(key, val, datatype):\n",
    "    datatype = datatype.replace('string', 'str')\n",
    "    try:\n",
    "        assert isinstance(val, eval(datatype))\n",
    "    except:\n",
    "        msg = 'Error: The value \"' + str(val) + '\" is of the wrong data type for \"' + key + '\". '\n",
    "        msg += 'Change the value to a ' + datatype + '.'\n",
    "        print(msg)\n",
    "        \n",
    "def insert_collection(manifest):\n",
    "    \"\"\"\n",
    "    Inserts a collection manifest after checking for a unique `_id`.\n",
    "    \"\"\"\n",
    "    try:\n",
    "        assert manifest['_id'] not in Corpus.distinct(\"_id\")\n",
    "        Corpus.insert_one(manifest)\n",
    "        print('Inserted manifest with `_id` \"' + manifest['_id'] + '\".')\n",
    "    except:\n",
    "        print('The `_id` \"' + manifest['_id'] + '\" already exists in the database.')\n",
    "        \n",
    "def validate_manifest(manifest):\n",
    "    \"\"\"\n",
    "    Validates a manifest against the online manifest schema.\n",
    "    \"\"\"\n",
    "    schema_file = 'https://raw.githubusercontent.com/whatevery1says/manifest/master/schema/Corpus/collection.json'\n",
    "    schema = json.loads(requests.get(schema_file).text)\n",
    "    try:\n",
    "        validate(manifest, schema, format_checker=FormatChecker())\n",
    "        return True\n",
    "    except:\n",
    "        return False\n"
   ]
  },
  {
   "cell_type": "markdown",
   "metadata": {},
   "source": [
    "## Execute Action"
   ]
  },
  {
   "cell_type": "code",
   "execution_count": null,
   "metadata": {},
   "outputs": [],
   "source": [
    "manifest = create_manifest(opts, schema)\n",
    "if action == 'Create Manifest':\n",
    "    print('To insert this manifest in the database, select \"Insert into Database\" in the configuration form, then re-run the Basic Setup and Execute Action cells.\\n\\n')\n",
    "    print(json.dumps(manifest, indent=4))\n",
    "else:\n",
    "    print('Adding the manifest below to the database...\\n')\n",
    "    print(manifest)\n",
    "    print('\\n')\n",
    "    insert_collection(manifest)"
   ]
  }
 ],
 "metadata": {
  "kernelspec": {
   "display_name": "Python 3",
   "language": "python",
   "name": "python3"
  },
  "language_info": {
   "codemirror_mode": {
    "name": "ipython",
    "version": 3
   },
   "file_extension": ".py",
   "mimetype": "text/x-python",
   "name": "python",
   "nbconvert_exporter": "python",
   "pygments_lexer": "ipython3",
   "version": "3.6.1"
  }
 },
 "nbformat": 4,
 "nbformat_minor": 2
}
