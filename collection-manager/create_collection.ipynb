{
 "cells": [
  {
   "cell_type": "markdown",
   "metadata": {},
   "source": [
    "## Configuration"
   ]
  },
  {
   "cell_type": "code",
   "execution_count": null,
   "metadata": {},
   "outputs": [],
   "source": [
    "# Choose Action : CREATE or IMPORT\n",
    "\n",
    "action = 'CREATE'\n",
    "\n",
    "# Required Properties\n",
    "_id = '' # string\n",
    "path = ',Corpus,' # Do not change\n",
    "publications = [',Publications,new_york_times,'] # list\n",
    "description = '' # string\n",
    "collectors = ['John Smith'] # list\n",
    "startdate = '2017-01-01' # string\n",
    "\n",
    "# Optional Properties\n",
    "enddate = '' # string\n",
    "workstation = '' # string\n",
    "queryTerms = ['humanities'] # list\n",
    "processes = ['path to process'] # list"
   ]
  },
  {
   "cell_type": "markdown",
   "metadata": {},
   "source": [
    "## Basic Setup"
   ]
  },
  {
   "cell_type": "code",
   "execution_count": null,
   "metadata": {
    "collapsed": true
   },
   "outputs": [],
   "source": [
    "# Import dependencies\n",
    "\n",
    "import pymongo\n",
    "from pymongo import MongoClient\n",
    "\n",
    "# Set up the MongoDB client, configure the databases, and assign variables to the \"collections\" \n",
    "client = MongoClient('mongodb://localhost:27017')\n",
    "db = client.we1s\n",
    "Corpus = db.Corpus\n",
    "\n",
    "# Define the schema to be used to create the manifest\n",
    "schema = [\n",
    "    { \"name\": \"_id\", \"type\": \"string\" },\n",
    "    { \"name\": \"path\", \"type\": \"string\" },    \n",
    "    { \"name\": \"publications\", \"type\": \"list\" },    \n",
    "    { \"name\": \"description\", \"type\": \"string\" },    \n",
    "    { \"name\": \"collectors\", \"type\": \"list\" },    \n",
    "    { \"name\": \"startdate\", \"type\": \"string\" },    \n",
    "    { \"name\": \"enddate\", \"type\": \"string\" },    \n",
    "    { \"name\": \"workstation\", \"type\": \"string\" },    \n",
    "    { \"name\": \"queryTerms\", \"type\": \"list\" },    \n",
    "    { \"name\": \"processes\", \"type\": \"list\" }\n",
    "]\n",
    "\n",
    "# Pass the configurations to a variable\n",
    "opts = globals()"
   ]
  },
  {
   "cell_type": "markdown",
   "metadata": {},
   "source": [
    "## API Methods"
   ]
  },
  {
   "cell_type": "code",
   "execution_count": null,
   "metadata": {
    "collapsed": true
   },
   "outputs": [],
   "source": [
    "def create_manifest(opts, schema):\n",
    "    manifest = {}\n",
    "    for item in schema:\n",
    "        key = item['name']\n",
    "        val = opts[key]\n",
    "        validate_datatype(key, val, item['type'])\n",
    "        manifest[key] = val\n",
    "    rebuild_date(manifest)\n",
    "    return manifest\n",
    "\n",
    "def validate_datatype(key, val, datatype):\n",
    "    datatype = datatype.replace('string', 'str')\n",
    "    try:\n",
    "        assert isinstance(val, eval(datatype))\n",
    "    except:\n",
    "        msg = 'Error: The value \"' + str(val) + '\" is of the wrong data type for \"' + key + '\". '\n",
    "        msg += 'Change the value to a ' + datatype + '.'\n",
    "        print(msg)\n",
    "        \n",
    "def rebuild_date(manifest):\n",
    "    start = manifest.pop('startdate')\n",
    "    end = manifest.pop('enddate')\n",
    "    try:\n",
    "        assert len(end > 0)\n",
    "        date = [{'start': start, 'end': end}]\n",
    "    except:\n",
    "        date = [start]\n",
    "    manifest['date'] = date\n",
    "    \n",
    "def insert_collection(manifest):\n",
    "    \"\"\"\n",
    "    Inserts a collection manifest after checking for a unique `_id`.\n",
    "    \"\"\"\n",
    "    try:\n",
    "        assert manifest['_id'] not in Corpus.distinct(\"_id\")\n",
    "        Corpus.insert_one(manifest)\n",
    "        print('Inserted manifest with `_id` \"' + manifest['_id'] + '\".')\n",
    "    except:\n",
    "        print('The `_id` \"' + manifest['_id'] + '\" already exists in the database.')"
   ]
  },
  {
   "cell_type": "markdown",
   "metadata": {},
   "source": [
    "## Execute Action"
   ]
  },
  {
   "cell_type": "code",
   "execution_count": null,
   "metadata": {},
   "outputs": [],
   "source": [
    "manifest = create_manifest(opts, schema)\n",
    "if action == 'CREATE':\n",
    "    print(manifest)\n",
    "else:\n",
    "    print('Adding the manifest below to the database...\\n')\n",
    "    print(manifest)\n",
    "    print('\\n')\n",
    "    insert_collection(manifest)"
   ]
  }
 ],
 "metadata": {
  "kernelspec": {
   "display_name": "Python 3",
   "language": "python",
   "name": "python3"
  },
  "language_info": {
   "codemirror_mode": {
    "name": "ipython",
    "version": 3
   },
   "file_extension": ".py",
   "mimetype": "text/x-python",
   "name": "python",
   "nbconvert_exporter": "python",
   "pygments_lexer": "ipython3",
   "version": "3.6.1"
  }
 },
 "nbformat": 4,
 "nbformat_minor": 2
}
