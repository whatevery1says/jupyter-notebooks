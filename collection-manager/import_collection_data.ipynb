{
 "cells": [
  {
   "cell_type": "markdown",
   "metadata": {},
   "source": [
    "## Configuration"
   ]
  },
  {
   "cell_type": "code",
   "execution_count": null,
   "metadata": {
    "collapsed": true
   },
   "outputs": [],
   "source": [
    "\"\"\"\n",
    "WARNING! This notebook does not validate data manifests before inserting them in the database.\n",
    "\"\"\"\n",
    "\n",
    "# Data Node configurationRawData or ProcessedData\n",
    "\n",
    "datatype = 'RawData' # string: \"RawData\" or \"ProcessedData\" \n",
    "collection = '' # string: The _id of the target collection \n",
    "\n",
    "# Optional Data Node Properties\n",
    "\n",
    "relationships = [] # list\n",
    "OCR = True # Boolean\n",
    "rights = \"\" # string\n",
    "\n",
    "# Paths to Data Manifests\n",
    "\n",
    "source_files = [] # list"
   ]
  },
  {
   "cell_type": "markdown",
   "metadata": {},
   "source": [
    "## Basic Setup"
   ]
  },
  {
   "cell_type": "code",
   "execution_count": null,
   "metadata": {
    "collapsed": true
   },
   "outputs": [],
   "source": [
    "# Import dependencies\n",
    "\n",
    "import os, json, pymongo\n",
    "from pymongo import MongoClient\n",
    "\n",
    "# Set up the MongoDB client, configure the databases, and assign variables to the \"collections\" \n",
    "client = MongoClient('mongodb://localhost:27017')\n",
    "db = client.we1s\n",
    "Corpus = db.Corpus\n",
    "\n",
    "# Define the schema to be used to create the manifest\n",
    "schema = [\n",
    "    { \"name\": \"path\", \"type\": \"string\" },\n",
    "    { \"name\": \"relationships\", \"type\": \"list\" },    \n",
    "    { \"name\": \"OCR\", \"type\": \"bool\" },    \n",
    "    { \"name\": \"rights\", \"type\": \"string\" }\n",
    "]\n",
    "\n",
    "# Auto-generate `_id` and `path` values for the Data Node\n",
    "_id = datatype\n",
    "path = ',Corpus,' + collection + ','\n",
    "\n",
    "# Pass the configurations to a variable\n",
    "opts = globals()"
   ]
  },
  {
   "cell_type": "markdown",
   "metadata": {},
   "source": [
    "## API Methods"
   ]
  },
  {
   "cell_type": "code",
   "execution_count": null,
   "metadata": {
    "collapsed": true
   },
   "outputs": [],
   "source": [
    "def detect_data_node(manifest, opts, schema):\n",
    "    \"\"\"\n",
    "    Attempts to the manifest's data node in the database. If it does not exist, creates the node or raises an error if the database does not contain the specified collection.\n",
    "    \"\"\"\n",
    "    try:\n",
    "        # Check whether the data node already exists\n",
    "        assert Corpus.find_one(manifest['path'])\n",
    "        pass\n",
    "    except:\n",
    "        try:\n",
    "            # Check whether the collection exists\n",
    "            assert Corpus.find_one(manifest['path'].rstrip(opts['datatype'] + ','))\n",
    "            # Create the data node\n",
    "            create_data_manifest(opts, schema)\n",
    "        except:\n",
    "            msg = 'The database does not contain the collection listed in the `path` property for ' + manifest['_id'] + '. Please run the `create_collection` notebook.'\n",
    "            print(msg)\n",
    "\n",
    "            \n",
    "def create_data_manifest(opts, schema):\n",
    "    \"\"\"\n",
    "    Detects if the RawData or ProcessedData node exists along the\n",
    "    specified path. If not, the node is created.\n",
    "    \"\"\"\n",
    "    try:\n",
    "        assert Corpus.find({'path': opts['path']})\n",
    "        pass\n",
    "    except:\n",
    "        manifest = {}\n",
    "        for item in schema:\n",
    "            key = item['name']\n",
    "            val = opts[key]\n",
    "            validate_datatype(key, val, item['type'])\n",
    "            manifest[key] = val\n",
    "        Corpus.insert_one(manifest)\n",
    "\n",
    "        \n",
    "def insert_doc_manifests(doc_paths, opts, schema):\n",
    "    \"\"\"\n",
    "    Loops through a list of doc manifests, ensures that the collection and data node specified therein exists in the database, and then inserts\n",
    "    the doc's manifest in the database.\n",
    "    \"\"\"\n",
    "    for path in doc_paths:\n",
    "        with open(path, 'r') as f:\n",
    "            manifest = json.load(f)\n",
    "        detect_data_node(manifest, opts, schema)\n",
    "        Corpus.insert_one(manifest)"
   ]
  },
  {
   "cell_type": "markdown",
   "metadata": {},
   "source": [
    "## Execute Action"
   ]
  },
  {
   "cell_type": "code",
   "execution_count": null,
   "metadata": {
    "collapsed": true
   },
   "outputs": [],
   "source": [
    "insert_doc_manifests(doc_paths, opts, schema)"
   ]
  }
 ],
 "metadata": {
  "kernelspec": {
   "display_name": "Python 3",
   "language": "python",
   "name": "python3"
  },
  "language_info": {
   "codemirror_mode": {
    "name": "ipython",
    "version": 3
   },
   "file_extension": ".py",
   "mimetype": "text/x-python",
   "name": "python",
   "nbconvert_exporter": "python",
   "pygments_lexer": "ipython3",
   "version": "3.6.1"
  }
 },
 "nbformat": 4,
 "nbformat_minor": 2
}
