{
 "cells": [
  {
   "cell_type": "markdown",
   "metadata": {},
   "source": [
    "## Configuration"
   ]
  },
  {
   "cell_type": "code",
   "execution_count": null,
   "metadata": {
    "collapsed": true
   },
   "outputs": [],
   "source": [
    "\n",
    "### RUN THIS CELL TO BEGIN CONFIGURATION ###\n",
    "%run manage_data_nodes_config.ipynb"
   ]
  },
  {
   "cell_type": "code",
   "execution_count": 1,
   "metadata": {
    "collapsed": true
   },
   "outputs": [],
   "source": [
    "### LEGACY CONFIGURATION CELL -- SKIP THIS IF USING THE CONFIGURATION FORM ABOVE ###\n",
    "\n",
    "# Data Node configurationRawData or ProcessedData\n",
    "\n",
    "datatype = 'RawData' # string: \"RawData\" or \"ProcessedData\"\n",
    "namespace = 'we1sv1.1'\n",
    "collection = 'test' # string: The _id of the target collection \n",
    "\n",
    "# Optional RawData Node Properties\n",
    "\n",
    "relationships = [] # list\n",
    "OCR = True # Boolean\n",
    "rights = \"\" # string\n",
    "\n",
    "# Optional ProcessedData Node Properties\n",
    "\n",
    "processes = [] # list\n",
    "\n",
    "# Paths to Data Manifests\n",
    "\n",
    "source_files = [] # list"
   ]
  },
  {
   "cell_type": "markdown",
   "metadata": {},
   "source": [
    "## Basic Setup"
   ]
  },
  {
   "cell_type": "code",
   "execution_count": 2,
   "metadata": {
    "collapsed": true
   },
   "outputs": [],
   "source": [
    "# If using the configuration form, get the values from the form\n",
    "try:\n",
    "    assert config.values['datatype']\n",
    "    datatype = config.values['datatype']\n",
    "    collection = config.values['collection']\n",
    "    source_files = config.values['source_files']\n",
    "    if datatype == 'RawData':\n",
    "        relationships.values['relationships']\n",
    "        rights.values['rights']\n",
    "        OCR = config.values['OCR']\n",
    "    else:\n",
    "        processes = config.values['processes']\n",
    "except:\n",
    "    pass\n",
    "\n",
    "# Import dependencies\n",
    "\n",
    "import os, json, pymongo\n",
    "from pymongo import MongoClient\n",
    "from jsonschema import validate, FormatChecker\n",
    "\n",
    "# Set up the MongoDB client, configure the databases, and assign variables to the \"collections\" \n",
    "client = MongoClient('mongodb://localhost:27017')\n",
    "db = client.we1s\n",
    "Corpus = db.Corpus\n",
    "\n",
    "# Define the schema to be used to create the manifest\n",
    "if datatype == 'RawData':\n",
    "    schema = [\n",
    "        { \"name\": \"path\", \"type\": \"string\" },\n",
    "        { \"name\": \"collection\", \"type\": \"string\" },    \n",
    "        { \"name\": \"relationships\", \"type\": \"list\" },    \n",
    "        { \"name\": \"OCR\", \"type\": \"bool\" },    \n",
    "        { \"name\": \"rights\", \"type\": \"string\" }\n",
    "    ]\n",
    "else:\n",
    "    schema = [\n",
    "        { \"name\": \"path\", \"type\": \"string\" },\n",
    "        { \"name\": \"collection\", \"type\": \"string\" },    \n",
    "        { \"name\": \"processes\", \"type\": \"list\" }    \n",
    "    ]\n",
    "    \n",
    "\n",
    "# Auto-generate `_id` and `path` values for the Data Node\n",
    "_id = datatype\n",
    "path = ',Corpus,' + collection + ','\n",
    "\n",
    "# Pass the configurations to a variable\n",
    "opts = globals()"
   ]
  },
  {
   "cell_type": "markdown",
   "metadata": {},
   "source": [
    "## API Methods"
   ]
  },
  {
   "cell_type": "code",
   "execution_count": 12,
   "metadata": {},
   "outputs": [],
   "source": [
    "def create_data_manifest(opts, schema):\n",
    "    \"\"\"\n",
    "    Detects if the RawData or ProcessedData node exists along the\n",
    "    specified path. If not, the node is created.\n",
    "    \"\"\"\n",
    "    try:\n",
    "        assert Corpus.find({'path': opts['path']})\n",
    "        pass\n",
    "    except:\n",
    "        manifest = {'namespace': namespace}\n",
    "        for item in schema:\n",
    "            key = item['name']\n",
    "            val = opts[key]\n",
    "            # This function does not exist\n",
    "            valid_datatype = isinstance(val, item['type'])\n",
    "            try:\n",
    "                valid_datatype == True\n",
    "                manifest[key] = val\n",
    "            except:\n",
    "                print(manifest[key] + ' has an invalid data type. Please double check it against the schema.')\n",
    "        Corpus.insert_one(manifest)\n",
    "\n",
    "\n",
    "def detect_data_node(manifest, opts, schema):\n",
    "    \"\"\"\n",
    "    Attempts to find the manifest's data node in the database. If it does not exist, creates the node or raises an error if the database does not contain the specified collection.\n",
    "    \"\"\"\n",
    "    try:\n",
    "        # Check whether the data node already exists\n",
    "        assert Corpus.find_one(manifest['path'])\n",
    "        pass\n",
    "    except:\n",
    "        try:\n",
    "            # Check whether the collection exists\n",
    "            assert Corpus.find_one(manifest['path'].rstrip(opts['datatype'] + ','))\n",
    "            # Create the data node\n",
    "            create_data_manifest(opts, schema)\n",
    "        except:\n",
    "            msg = 'The database does not contain the collection listed in the `path` property for ' + manifest['_id'] + '. Please run the `create_collection` notebook.'\n",
    "            print(msg)\n",
    "\n",
    "        \n",
    "def insert_doc_manifests(doc_paths, opts, schema):\n",
    "    \"\"\"\n",
    "    Loops through a list of doc manifests, ensures that the collection and data node specified therein exists in the database, and then inserts\n",
    "    the doc's manifest in the database.\n",
    "    \"\"\"\n",
    "    for path in doc_paths:\n",
    "        with open(path, 'r') as f:\n",
    "            manifest = json.load(f)\n",
    "        detect_data_node(manifest, opts, schema)\n",
    "        if validate(manifest) == True:\n",
    "            Corpus.insert_one(manifest)\n",
    "        else:\n",
    "            print(\"Error: Could not produce a valid manifest.\")\n",
    "\n",
    "            \n",
    "def validate_manifest(manifest):\n",
    "    \"\"\"\n",
    "    Validates a manifest against the online manifest schema.\n",
    "    \"\"\"\n",
    "    schema_file = 'https://raw.githubusercontent.com/whatevery1says/manifest/master/schema/Corpus/collection.json'\n",
    "    schema = json.loads(requests.get(schema_file).text)\n",
    "    try:\n",
    "        validate(manifest, schema, format_checker=FormatChecker())\n",
    "        return True\n",
    "    except:\n",
    "        return False"
   ]
  },
  {
   "cell_type": "markdown",
   "metadata": {},
   "source": [
    "## Execute Action"
   ]
  },
  {
   "cell_type": "code",
   "execution_count": null,
   "metadata": {},
   "outputs": [],
   "source": [
    "insert_doc_manifests(source_files, opts, schema)"
   ]
  }
 ],
 "metadata": {
  "kernelspec": {
   "display_name": "Python 3",
   "language": "python",
   "name": "python3"
  },
  "language_info": {
   "codemirror_mode": {
    "name": "ipython",
    "version": 3
   },
   "file_extension": ".py",
   "mimetype": "text/x-python",
   "name": "python",
   "nbconvert_exporter": "python",
   "pygments_lexer": "ipython3",
   "version": "3.6.1"
  }
 },
 "nbformat": 4,
 "nbformat_minor": 2
}
