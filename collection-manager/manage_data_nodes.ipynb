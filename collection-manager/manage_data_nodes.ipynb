{
 "cells": [
  {
   "cell_type": "markdown",
   "metadata": {},
   "source": [
    "## Configuration"
   ]
  },
  {
   "cell_type": "code",
   "execution_count": 109,
   "metadata": {},
   "outputs": [
    {
     "data": {
      "text/html": [
       "\n",
       "<style>\n",
       "textarea {min-height: 110px !important;}\n",
       "/* Allow extra-long labels */\n",
       ".widget-label {min-width: 20ex !important; font-weight: bold;}\n",
       ".widget-checkbox {padding-right: 300px !important;}\n",
       "/* Classes for toggling widget visibility */\n",
       ".hidden {display: none;}\n",
       ".visible {display: flex;}\n",
       "</style>\n"
      ],
      "text/plain": [
       "<IPython.core.display.HTML object>"
      ]
     },
     "metadata": {},
     "output_type": "display_data"
    },
    {
     "data": {
      "application/vnd.jupyter.widget-view+json": {
       "model_id": "3c21d6543b574f719001135105eeebe2"
      }
     },
     "metadata": {},
     "output_type": "display_data"
    },
    {
     "data": {
      "application/vnd.jupyter.widget-view+json": {
       "model_id": "994258b9b15e4da0a0031a91d375ec5e"
      }
     },
     "metadata": {},
     "output_type": "display_data"
    },
    {
     "data": {
      "application/vnd.jupyter.widget-view+json": {
       "model_id": "ff7c33ade0444b17ad7b163fff1874ff"
      }
     },
     "metadata": {},
     "output_type": "display_data"
    }
   ],
   "source": [
    "### RUN THIS CELL TO BEGIN CONFIGURATION ###\n",
    "%run manage_data_nodes_config.ipynb"
   ]
  },
  {
   "cell_type": "code",
   "execution_count": null,
   "metadata": {
    "collapsed": true
   },
   "outputs": [],
   "source": [
    "### LEGACY CONFIGURATION CELL -- SKIP THIS IF USING THE CONFIGURATION FORM ABOVE ###\n",
    "\n",
    "# Configure Action: DELETE, DISPLAY, INSERT, or UPDATE\n",
    "\n",
    "action = 'INSERT'\n",
    "namespace = 'we1sv1.1'\n",
    "\n",
    "# Data Node configurationRawData or ProcessedData\n",
    "\n",
    "datatype = 'RawData' # string: \"RawData\" or \"ProcessedData\" \n",
    "collection = '' # string: The _id of the target collection \n",
    "\n",
    "# Optional Data Node Properties -- Additional properties may be added but must be defined in the schema\n",
    "\n",
    "relationships = [] # list\n",
    "OCR = True # Boolean\n",
    "rights = \"\" # string\n",
    "title = \"\" # string\n",
    "altTitle = \"\" # string\n",
    "date = [] # list\n",
    "description = \"\" # string\n",
    "label = \"\" # string\n",
    "notes = \"\" # list\n",
    "\n",
    "# Define the schema to be used to create the manifest\n",
    "if datatype == 'RawData':\n",
    "    schema = [\n",
    "        { \"name\": \"namespace\", \"type\": \"string\" },\n",
    "        { \"name\": \"path\", \"type\": \"string\" },\n",
    "        { \"name\": \"relationships\", \"type\": \"list\" },    \n",
    "        { \"name\": \"OCR\", \"type\": \"bool\" },    \n",
    "        { \"name\": \"rights\", \"type\": \"string\" },\n",
    "        { \"name\": \"title\", \"type\": \"string\" },\n",
    "        { \"name\": \"altTitle\", \"type\": \"string\" },\n",
    "        { \"name\": \"date\", \"type\": \"list\" },\n",
    "        { \"name\": \"description\", \"type\": \"string\" },\n",
    "        { \"name\": \"label\", \"type\": \"string\" },\n",
    "        { \"name\": \"notes\", \"type\": \"list\" }\n",
    "    ]\n",
    "else:\n",
    "    schema = [\n",
    "        { \"name\": \"namespace\", \"type\": \"string\" },\n",
    "        { \"name\": \"path\", \"type\": \"string\" },\n",
    "        { \"name\": \"processes\", \"type\": \"list\" },            \n",
    "        { \"name\": \"title\", \"type\": \"string\" },\n",
    "        { \"name\": \"altTitle\", \"type\": \"string\" },\n",
    "        { \"name\": \"date\", \"type\": \"list\" },\n",
    "        { \"name\": \"description\", \"type\": \"string\" },\n",
    "        { \"name\": \"label\", \"type\": \"string\" },\n",
    "        { \"name\": \"notes\", \"type\": \"list\" }\n",
    "    ]"
   ]
  },
  {
   "cell_type": "markdown",
   "metadata": {},
   "source": [
    "## Basic Setup"
   ]
  },
  {
   "cell_type": "code",
   "execution_count": null,
   "metadata": {
    "collapsed": true
   },
   "outputs": [],
   "source": [
    "# If using the configuration form, get the values from the form\n",
    "try:\n",
    "    assert config.values['datatype']\n",
    "    namespace = \"we1sv1.1\"\n",
    "    action = config.values['action'].upper()\n",
    "    datatype = config.values['datatype']\n",
    "    title = config.values['title']\n",
    "    altTitle = config.values['altTitle']\n",
    "    date = config.values['date']\n",
    "    description = config.values['description']\n",
    "    label = config.values['label']\n",
    "    notes = config.values['notes']\n",
    "    if datatype = 'RawData':\n",
    "        collection = config.values['collection']\n",
    "        relationships.values['relationships']\n",
    "        rights.values['rights']\n",
    "        OCR = config.values['OCR']\n",
    "    else:\n",
    "        processes = config.values['processes']\n",
    "except:\n",
    "    pass\n",
    "\n",
    "# Import dependencies\n",
    "\n",
    "import pymongo\n",
    "from pymongo import MongoClient\n",
    "from jsonschema import validate, FormatChecker\n",
    "\n",
    "# Set up the MongoDB client, configure the databases, and assign variables to the \"collections\"\n",
    "\n",
    "client = MongoClient('mongodb://localhost:27017')\n",
    "db = client.we1s\n",
    "Corpus = db.Corpus\n",
    "\n",
    "# Auto-generate `_id` and `path` values for the Data Node\n",
    "_id = datatype\n",
    "path = ',Corpus,' + collection + ','\n",
    "\n",
    "# Pass the configurations to a variable\n",
    "opts = globals()"
   ]
  },
  {
   "cell_type": "markdown",
   "metadata": {},
   "source": [
    "## API Methods"
   ]
  },
  {
   "cell_type": "code",
   "execution_count": null,
   "metadata": {
    "collapsed": true
   },
   "outputs": [],
   "source": [
    "def display_node(_id, path):\n",
    "    try:\n",
    "        assert Corpus.find_one({'_id': _id, 'path': path})\n",
    "        print(Corpus.find_one(_id, path))\n",
    "    except:\n",
    "        print('The data node does not exist in the specified collection.')\n",
    "\n",
    "\n",
    "def delete_data_node(_id, path):\n",
    "    \"\"\"\n",
    "    Inserts a Data Node based on the user configuration.\n",
    "    \"\"\"\n",
    "    try:\n",
    "        assert Corpus.delete({'_id': _id, 'path': path})\n",
    "        print('A ' + datatype + ' manifest has been deleted from the ' + collection + 'collection.')\n",
    "    except:\n",
    "        print('Unknown Error: The ' + datatype + ' manifest could not be deleted from the ' + collection + 'collection.')\n",
    "        \n",
    "        \n",
    "def get_properties(opts, schema):\n",
    "    \"\"\"\n",
    "    Returns a dict of properties from the configured values.\n",
    "    \"\"\"\n",
    "    properties = {}\n",
    "    for item in schema:\n",
    "        key = item['name']\n",
    "        val = opts[key]\n",
    "        validate_datatype(key, val, item['type'])\n",
    "        # Eliminate empty properties from the manifest\n",
    "        if isinstance(val, str) and val != \"\":\n",
    "            properties[key] = val\n",
    "        if isinstance(val, list) and val[0] != \"\":\n",
    "            properties[key] = val\n",
    "    return properties\n",
    "\n",
    "\n",
    "def insert_data_node(_id, opts, schema):\n",
    "    \"\"\"\n",
    "    Inserts a Data Node based on the user configuration.\n",
    "    \"\"\"\n",
    "    try:\n",
    "        assert Corpus.find_one({'_id': _id, 'path': path})\n",
    "        print('The Data Node already exists in the specified collection. If you wish to update it, set `action` to \"UPDATE\".')\n",
    "    except:\n",
    "        properties = get_properties(opts, schema)\n",
    "        if validate_manifest(properties) == True:\n",
    "            Corpus.insert_one(manifest)\n",
    "            print('A ' + datatype + ' manifest has been inserted in the ' + collection + 'collection.')\n",
    "        else:\n",
    "            print(\"Error: Could not produce a valid manifest.\")\n",
    "\n",
    "\n",
    "def update_data_node(_id, opts, schema):\n",
    "    \"\"\"\n",
    "    Updates a Data Node manifest based on the user configuration.\n",
    "    \"\"\"\n",
    "    try:\n",
    "        assert Corpus.find_one({'_id': _id, 'path': path})\n",
    "        properties = get_properties(opts, schema)\n",
    "        properties.pop('_id', None)\n",
    "        properties.pop('path', None)\n",
    "        Corpus.update_one({'_id': _id, 'path': path}, {\"$set\": properties}, upsert=False)\n",
    "        print('The manifest for `_id` '+ _id + ' has been updated.')\n",
    "    except:\n",
    "        print('The Data Node does not exist in the specified collection.')\n",
    "\n",
    "        \n",
    "def validate_datatype(key, val, datatype):\n",
    "    datatype = datatype.replace('string', 'str')\n",
    "    try:\n",
    "        assert isinstance(val, eval(datatype))\n",
    "    except:\n",
    "        msg = 'Error: The value \"' + str(val) + '\" is of the wrong data type for \"' + key + '\". '\n",
    "        msg += 'Change the value to a ' + datatype + '.'\n",
    "        print(msg)\n",
    "\n",
    "        \n",
    "def validate_manifest(manifest):\n",
    "    \"\"\"\n",
    "    Validates a manifest against the online manifest schema.\n",
    "    \"\"\"\n",
    "    schema_file = 'https://raw.githubusercontent.com/whatevery1says/manifest/master/schema/Corpus/' + datatype + '.json'\n",
    "    schema = json.loads(requests.get(schema_file).text)\n",
    "    try:\n",
    "        validate(manifest, schema, format_checker=FormatChecker())\n",
    "        return True\n",
    "    except:\n",
    "        return False"
   ]
  },
  {
   "cell_type": "markdown",
   "metadata": {},
   "source": [
    "## Execute Action"
   ]
  },
  {
   "cell_type": "code",
   "execution_count": null,
   "metadata": {
    "collapsed": true
   },
   "outputs": [],
   "source": [
    "if action == 'INSERT':\n",
    "    insert_data_node(_id, opts, schema)\n",
    "elif action = 'UPDATE':\n",
    "    update_data_node(_id, opts, schema)\n",
    "elif action = 'DISPLAY':\n",
    "    display_node(_id, path)\n",
    "else:\n",
    "    print('Please configure the `action` variable at the top of the notebook.')"
   ]
  }
 ],
 "metadata": {
  "kernelspec": {
   "display_name": "Python 3",
   "language": "python",
   "name": "python3"
  },
  "language_info": {
   "codemirror_mode": {
    "name": "ipython",
    "version": 3
   },
   "file_extension": ".py",
   "mimetype": "text/x-python",
   "name": "python",
   "nbconvert_exporter": "python",
   "pygments_lexer": "ipython3",
   "version": "3.6.1"
  }
 },
 "nbformat": 4,
 "nbformat_minor": 2
}
