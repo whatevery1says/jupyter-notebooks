{
 "cells": [
  {
   "cell_type": "markdown",
   "metadata": {},
   "source": [
    "## Configuration"
   ]
  },
  {
   "cell_type": "code",
   "execution_count": null,
   "metadata": {
    "collapsed": true
   },
   "outputs": [],
   "source": [
    "### RUN THIS CELL TO BEGIN CONFIGURATION ###\n",
    "%run manage_data_nodes_config.ipynb"
   ]
  },
  {
   "cell_type": "code",
   "execution_count": null,
   "metadata": {
    "collapsed": true
   },
   "outputs": [],
   "source": [
    "### LEGACY CONFIGURATION CELL -- SKIP THIS IF USING THE CONFIGURATION FORM ABOVE ###\n",
    "\n",
    "# Configure Action: DELETE, DISPLAY, INSERT, or UPDATE\n",
    "\n",
    "action = 'INSERT'\n",
    "\n",
    "# Data Node configurationRawData or ProcessedData\n",
    "\n",
    "datatype = 'RawData' # string: \"RawData\" or \"ProcessedData\" \n",
    "collection = '' # string: The _id of the target collection \n",
    "\n",
    "# Optional Data Node Properties -- Additional properties may be added but must be defined in the schema\n",
    "\n",
    "relationships = [] # list\n",
    "OCR = True # Boolean\n",
    "rights = \"\" # string\n",
    "\n",
    "# Define the schema to be used to create the manifest\n",
    "schema = [\n",
    "    { \"name\": \"path\", \"type\": \"string\" },\n",
    "    { \"name\": \"relationships\", \"type\": \"list\" },    \n",
    "    { \"name\": \"OCR\", \"type\": \"bool\" },    \n",
    "    { \"name\": \"rights\", \"type\": \"string\" }\n",
    "]"
   ]
  },
  {
   "cell_type": "markdown",
   "metadata": {},
   "source": [
    "## Basic Setup"
   ]
  },
  {
   "cell_type": "code",
   "execution_count": null,
   "metadata": {
    "collapsed": true
   },
   "outputs": [],
   "source": [
    "# If using the configuration form, get the values from the form\n",
    "try:\n",
    "    assert config.values['datatype']\n",
    "    action = config.values['action'].upper()\n",
    "    datatype = config.values['datatype']\n",
    "    collection = config.values['collection']\n",
    "    relationships.values['relationships']\n",
    "    rights.values['rights']\n",
    "    OCR = config.values['OCR']\n",
    "except:\n",
    "    pass\n",
    "\n",
    "# Import dependencies\n",
    "\n",
    "import pymongo\n",
    "from pymongo import MongoClient\n",
    "\n",
    "# Set up the MongoDB client, configure the databases, and assign variables to the \"collections\"\n",
    "\n",
    "client = MongoClient('mongodb://localhost:27017')\n",
    "db = client.we1s\n",
    "Corpus = db.Corpus\n",
    "\n",
    "# Auto-generate `_id` and `path` values for the Data Node\n",
    "_id = datatype\n",
    "path = ',Corpus,' + collection + ','\n",
    "\n",
    "# Pass the configurations to a variable\n",
    "opts = globals()"
   ]
  },
  {
   "cell_type": "markdown",
   "metadata": {},
   "source": [
    "## API Methods"
   ]
  },
  {
   "cell_type": "code",
   "execution_count": null,
   "metadata": {
    "collapsed": true
   },
   "outputs": [],
   "source": [
    "def display_node(_id, path):\n",
    "    try:\n",
    "        assert Corpus.find_one({'_id': _id, 'path': path})\n",
    "        print(Corpus.find_one(_id, path))\n",
    "    except:\n",
    "        print('The data node does not exist in the specified collection.')\n",
    "\n",
    "\n",
    "def delete_data_node(_id, path):\n",
    "    \"\"\"\n",
    "    Inserts a Data Node based on the user configuration.\n",
    "    \"\"\"\n",
    "    try:\n",
    "        assert Corpus.delete({'_id': _id, 'path': path})\n",
    "        print('A ' + datatype + ' manifest has been deleted from the ' + collection + 'collection.')\n",
    "    except:\n",
    "        print('Unknown Error: The ' + datatype + ' manifest could not be deleted from the ' + collection + 'collection.')\n",
    "        \n",
    "        \n",
    "def get_properties(opts, schema):\n",
    "    \"\"\"\n",
    "    Returns a dict of properties from the configured values.\n",
    "    \"\"\"\n",
    "    properties = {}\n",
    "    for item in schema:\n",
    "        key = item['name']\n",
    "        val = opts[key]\n",
    "        validate_datatype(key, val, item['type'])\n",
    "        properties[key] = val\n",
    "    return properties\n",
    "\n",
    "\n",
    "def insert_data_node(_id, opts, schema):\n",
    "    \"\"\"\n",
    "    Inserts a Data Node based on the user configuration.\n",
    "    \"\"\"\n",
    "    try:\n",
    "        assert Corpus.find_one({'_id': _id, 'path': path})\n",
    "        print('The Data Node already exists in the specified collection. If you wish to update it, set `action` to \"UPDATE\".')\n",
    "    except:\n",
    "        properties = get_properties(opts, schema)\n",
    "        Corpus.insert_one(properties)\n",
    "        print('A ' + datatype + ' manifest has been inserted in the ' + collection + 'collection.')\n",
    "\n",
    "\n",
    "def update_data_node(_id, opts, schema):\n",
    "    \"\"\"\n",
    "    Updates a Data Node manifest based on the user configuration.\n",
    "    \"\"\"\n",
    "    try:\n",
    "        assert Corpus.find_one({'_id': _id, 'path': path})\n",
    "        properties = get_properties(opts, schema)\n",
    "        properties.pop('_id', None)\n",
    "        properties.pop('path', None)\n",
    "        Corpus.update_one({'_id': _id, 'path': path}, {\"$set\": properties}, upsert=False)\n",
    "        print('The manifest for `_id` '+ _id + ' has been updated.')\n",
    "    except:\n",
    "        print('The Data Node does not exist in the specified collection.')"
   ]
  },
  {
   "cell_type": "markdown",
   "metadata": {},
   "source": [
    "## Execute Action"
   ]
  },
  {
   "cell_type": "code",
   "execution_count": null,
   "metadata": {
    "collapsed": true
   },
   "outputs": [],
   "source": [
    "if action == 'INSERT':\n",
    "    insert_data_node(_id, opts, schema)\n",
    "elif action = 'UPDATE':\n",
    "    update_data_node(_id, opts, schema)\n",
    "elif action = 'DISPLAY':\n",
    "    display_node(_id, path)\n",
    "else:\n",
    "    print('Please configure the `action` variable at the top of the notebook.')"
   ]
  }
 ],
 "metadata": {
  "kernelspec": {
   "display_name": "Python 3",
   "language": "python",
   "name": "python3"
  },
  "language_info": {
   "codemirror_mode": {
    "name": "ipython",
    "version": 3
   },
   "file_extension": ".py",
   "mimetype": "text/x-python",
   "name": "python",
   "nbconvert_exporter": "python",
   "pygments_lexer": "ipython3",
   "version": "3.6.1"
  }
 },
 "nbformat": 4,
 "nbformat_minor": 2
}
